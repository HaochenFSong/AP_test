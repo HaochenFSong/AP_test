{
 "cells": [
  {
   "cell_type": "code",
   "execution_count": 8,
   "id": "f124526d",
   "metadata": {},
   "outputs": [],
   "source": [
    "import pandas as pd\n",
    "import numpy as np"
   ]
  },
  {
   "cell_type": "code",
   "execution_count": null,
   "id": "ba1ddbd2",
   "metadata": {},
   "outputs": [],
   "source": [
    "def TSPDD(pa, pb, n, c, burnin):\n",
    "    arm_a_successes = np.array([0])\n",
    "    arm_a_failures = np.array([0])\n",
    "    arm_b_successes = np.array([0])\n",
    "    arm_a_failures = np.array([0])\n",
    "    \n",
    "    arm_a_s = np.array([0])\n",
    "    arm_a_f = np.array([0])\n",
    "    arm_b_s = np.array([0])\n",
    "    arm_b_f = np.array([0])\n",
    "    \n",
    "    abl = []\n",
    "    \n",
    "    for i in range(1,burnin+1):\n",
    "        draw_a = np.random.uniform(size = 1)\n",
    "        draw_b = np.random.uniform(size = 1)\n",
    "        \n",
    "        if draw_a[0] > draw_b[0]:\n",
    "            "
   ]
  },
  {
   "cell_type": "code",
   "execution_count": 11,
   "id": "844960d6",
   "metadata": {},
   "outputs": [
    {
     "data": {
      "text/plain": [
       "0.13434553285531625"
      ]
     },
     "execution_count": 11,
     "metadata": {},
     "output_type": "execute_result"
    }
   ],
   "source": [
    "np.random.uniform(size = 1)[0]"
   ]
  },
  {
   "cell_type": "code",
   "execution_count": 5,
   "id": "81faa4f6",
   "metadata": {},
   "outputs": [],
   "source": [
    "\n",
    "ab.append(1)\n"
   ]
  },
  {
   "cell_type": "code",
   "execution_count": 6,
   "id": "f2ea4161",
   "metadata": {},
   "outputs": [
    {
     "data": {
      "text/plain": [
       "[1, 1]"
      ]
     },
     "execution_count": 6,
     "metadata": {},
     "output_type": "execute_result"
    }
   ],
   "source": [
    "ab"
   ]
  },
  {
   "cell_type": "code",
   "execution_count": 9,
   "id": "c53373b3",
   "metadata": {},
   "outputs": [
    {
     "data": {
      "text/plain": [
       "array([0.20933825])"
      ]
     },
     "execution_count": 9,
     "metadata": {},
     "output_type": "execute_result"
    }
   ],
   "source": [
    "np.random.uniform(size = 1)"
   ]
  },
  {
   "cell_type": "code",
   "execution_count": null,
   "id": "e4378dd0",
   "metadata": {},
   "outputs": [],
   "source": []
  }
 ],
 "metadata": {
  "kernelspec": {
   "display_name": "Python 3 (ipykernel)",
   "language": "python",
   "name": "python3"
  },
  "language_info": {
   "codemirror_mode": {
    "name": "ipython",
    "version": 3
   },
   "file_extension": ".py",
   "mimetype": "text/x-python",
   "name": "python",
   "nbconvert_exporter": "python",
   "pygments_lexer": "ipython3",
   "version": "3.9.7"
  }
 },
 "nbformat": 4,
 "nbformat_minor": 5
}
